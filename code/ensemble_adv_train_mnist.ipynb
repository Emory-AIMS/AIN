{
 "cells": [
  {
   "cell_type": "code",
   "execution_count": 1,
   "metadata": {
    "collapsed": true
   },
   "outputs": [],
   "source": [
    "import sys\n",
    "import os\n",
    "PATH = \"../\""
   ]
  },
  {
   "cell_type": "code",
   "execution_count": 2,
   "metadata": {},
   "outputs": [
    {
     "name": "stderr",
     "output_type": "stream",
     "text": [
      "Using TensorFlow backend.\n",
      "/Users/mashiru/.pyenv/versions/3.6.1/lib/python3.6/site-packages/tensorflow/python/framework/dtypes.py:523: FutureWarning: Passing (type, 1) or '1type' as a synonym of type is deprecated; in a future version of numpy, it will be understood as (type, (1,)) / '(1,)type'.\n",
      "  _np_qint8 = np.dtype([(\"qint8\", np.int8, 1)])\n",
      "/Users/mashiru/.pyenv/versions/3.6.1/lib/python3.6/site-packages/tensorflow/python/framework/dtypes.py:524: FutureWarning: Passing (type, 1) or '1type' as a synonym of type is deprecated; in a future version of numpy, it will be understood as (type, (1,)) / '(1,)type'.\n",
      "  _np_quint8 = np.dtype([(\"quint8\", np.uint8, 1)])\n",
      "/Users/mashiru/.pyenv/versions/3.6.1/lib/python3.6/site-packages/tensorflow/python/framework/dtypes.py:525: FutureWarning: Passing (type, 1) or '1type' as a synonym of type is deprecated; in a future version of numpy, it will be understood as (type, (1,)) / '(1,)type'.\n",
      "  _np_qint16 = np.dtype([(\"qint16\", np.int16, 1)])\n",
      "/Users/mashiru/.pyenv/versions/3.6.1/lib/python3.6/site-packages/tensorflow/python/framework/dtypes.py:526: FutureWarning: Passing (type, 1) or '1type' as a synonym of type is deprecated; in a future version of numpy, it will be understood as (type, (1,)) / '(1,)type'.\n",
      "  _np_quint16 = np.dtype([(\"quint16\", np.uint16, 1)])\n",
      "/Users/mashiru/.pyenv/versions/3.6.1/lib/python3.6/site-packages/tensorflow/python/framework/dtypes.py:527: FutureWarning: Passing (type, 1) or '1type' as a synonym of type is deprecated; in a future version of numpy, it will be understood as (type, (1,)) / '(1,)type'.\n",
      "  _np_qint32 = np.dtype([(\"qint32\", np.int32, 1)])\n",
      "/Users/mashiru/.pyenv/versions/3.6.1/lib/python3.6/site-packages/tensorflow/python/framework/dtypes.py:532: FutureWarning: Passing (type, 1) or '1type' as a synonym of type is deprecated; in a future version of numpy, it will be understood as (type, (1,)) / '(1,)type'.\n",
      "  np_resource = np.dtype([(\"resource\", np.ubyte, 1)])\n"
     ]
    }
   ],
   "source": [
    "sys.path.append(os.path.abspath(PATH))\n",
    "from dependency import *\n",
    "from nn.mnist_classifier import MNISTCNN\n",
    "from PIL import Image\n",
    "from utils.data_utils_mnist import dataset\n",
    "import utils.model_utils_mnist as  model_utils\n",
    "model_utils.set_flags()\n",
    "tf.app.flags.DEFINE_string('f', '', 'kernel')"
   ]
  },
  {
   "cell_type": "code",
   "execution_count": 3,
   "metadata": {},
   "outputs": [
    {
     "name": "stdout",
     "output_type": "stream",
     "text": [
      "Dataset here\n"
     ]
    }
   ],
   "source": [
    "data = dataset(\"/Users/mashiru/Life/My-Emory/Research/Research-Project/Data/mnist-new\", \n",
    "               normalize=True, biased=False)"
   ]
  },
  {
   "cell_type": "markdown",
   "metadata": {},
   "source": [
    "## train"
   ]
  },
  {
   "cell_type": "code",
   "execution_count": null,
   "metadata": {
    "collapsed": true
   },
   "outputs": [],
   "source": [
    "BATCH_SIZE = 100\n",
    "ADV_CLASSES = 10\n",
    "NUM_EPOCHS = 50\n",
    "lr = 1e-3\n",
    "valid_frequency = 2\n",
    "stop_threshold = 0.98\n",
    "stop_count = 5\n",
    "\n",
    "adv_path_prefixes = [\"fgsm_t0\", \"fgsm_t1\", \"fgsm_t2\", \"fgsm_t3\", \"fgsm_t4\", \"fgsm_t5\", \"fgsm_t6\", \"fgsm_t7\", \"fgsm_t8\", \"fgsm_t9\"]"
   ]
  },
  {
   "cell_type": "code",
   "execution_count": null,
   "metadata": {},
   "outputs": [
    {
     "name": "stdout",
     "output_type": "stream",
     "text": [
      "4 4 64\n",
      "Epoch 0: \n",
      "Training loss: 0.733801, training acc: 0.450909\n",
      "Training loss: 0.534025, training acc: 0.606364\n",
      "Training loss: 0.352103, training acc: 0.747273\n"
     ]
    }
   ],
   "source": [
    "## tf.reset_default_graph()\n",
    "g = tf.get_default_graph()\n",
    "# attack_target = 8\n",
    "with g.as_default():\n",
    "    # Placeholder nodes.\n",
    "    x_holder = tf.placeholder(tf.float32, [None, 28, 28, 1])\n",
    "    y_holder = tf.placeholder(tf.float32, [None, 10])\n",
    "    is_training = tf.placeholder(tf.bool, ())\n",
    "    # model\n",
    "    with tf.variable_scope(\"target\"):\n",
    "        model = MNISTCNN(conv_filter_sizes=[[4,4], [3,3], [4,4], [3,3], [4,4]],\n",
    "                         conv_strides = [[2,2], [1,1], [2,2], [1,1], [2,2]], \n",
    "                         conv_channel_sizes=[16, 16, 32, 32, 64], \n",
    "                         conv_leaky_ratio=[0.2, 0.2, 0.2, 0.2, 0.2],\n",
    "                         conv_drop_rate=[0.0, 0.4, 0.1, 0.2, 0.0],\n",
    "                         num_res_block=1,\n",
    "                         res_block_size=1,\n",
    "                         res_filter_sizes=[1,1],\n",
    "                         res_leaky_ratio=0.2,\n",
    "                         res_drop_rate=0.2,\n",
    "                         out_state=4*4*64,\n",
    "                         out_fc_states=[1024, 256, 10],\n",
    "                         out_leaky_ratio=0.2,\n",
    "                         out_norm=\"NONE\",\n",
    "                         use_norm=\"NONE\",\n",
    "                         img_channel=1\n",
    "                        )\n",
    "    # loss\n",
    "    logits, preds = model.evaluate(x_holder, is_training)\n",
    "    loss = model.loss(logits, y_holder, loss_type=\"mse\")\n",
    "    train_op = model.optimization(lr, loss)\n",
    "    acc = model.accuracy(preds, y_holder)\n",
    "\n",
    "\n",
    "with tf.Session(graph=g) as sess:\n",
    "    #import pdb; pdb.set_trace()\n",
    "    sess.run(tf.global_variables_initializer())\n",
    "    total_train_batch = int(data.train_size/BATCH_SIZE)\n",
    "    total_valid_batch = int(data.valid_size/BATCH_SIZE)\n",
    "    total_test_batch = int(data.test_size/BATCH_SIZE)\n",
    "    \n",
    "    # training, validation and test\n",
    "    count = 0\n",
    "    for epoch in range(NUM_EPOCHS):\n",
    "        print(\"Epoch {}: \".format(epoch))\n",
    "        for train_idx in range(total_train_batch):\n",
    "            batch_clean_xs, batch_clean_ys, clean_path = data.next_train_batch(BATCH_SIZE, True)\n",
    "            batch_adv_xs, batch_adv_ys = \\\n",
    "                data._load_batch_adv_images_from_adv_path_prefixes(BATCH_SIZE, clean_path, batch_clean_ys, adv_path_prefixes)\n",
    "            batch_xs = np.concatenate([batch_clean_xs, batch_adv_xs], 0)\n",
    "            batch_ys = np.concatenate([batch_clean_ys, batch_adv_ys], 0)\n",
    "            batch_xs, batch_ys = data._shuffle_multi([batch_xs, batch_ys])\n",
    "            feed_dict = {\n",
    "                x_holder: batch_xs,\n",
    "                y_holder: batch_ys,\n",
    "                is_training: True\n",
    "            }\n",
    "            fetches = [train_op, loss, acc]\n",
    "            _, train_loss, train_acc = sess.run(fetches=fetches, feed_dict=feed_dict)\n",
    "            if train_idx % 10 == 9:\n",
    "                print(\"Training loss: {:4f}, training acc: {:4f}\".format(train_loss, train_acc))\n",
    "            \n",
    "        if epoch % valid_frequency == valid_frequency-1:\n",
    "            valid_loss = 0; valid_acc = 0\n",
    "            valid_adv_loss = 0; valid_adv_acc = 0\n",
    "            valid_clean_loss = 0; valid_clean_acc = 0\n",
    "            for valid_idx in range(total_valid_batch):\n",
    "                batch_clean_xs, batch_clean_ys, clean_path = data.next_valid_batch(BATCH_SIZE, True)\n",
    "                batch_adv_xs, batch_adv_ys = \\\n",
    "                    data._load_batch_adv_images_from_adv_path_prefixes(BATCH_SIZE, clean_path, batch_clean_ys, adv_path_prefixes)\n",
    "                batch_adv_xs, batch_adv_ys = data._shuffle_multi([batch_adv_xs, batch_adv_ys])\n",
    "                #\n",
    "                batch_xs = np.concatenate([batch_clean_xs, batch_adv_xs], 0)\n",
    "                batch_ys = np.concatenate([batch_clean_ys, batch_adv_ys], 0)\n",
    "                batch_xs, batch_ys = data._shuffle_multi([batch_xs, batch_ys])\n",
    "                # for clean\n",
    "                feed_dict = {\n",
    "                    x_holder: batch_clean_xs,\n",
    "                    y_holder: batch_clean_ys,\n",
    "                    is_training: False\n",
    "                }\n",
    "                fetches = [loss, acc]\n",
    "                batch_clean_loss, batch_clean_acc = sess.run(fetches=fetches, feed_dict=feed_dict)\n",
    "                valid_clean_loss += batch_clean_loss\n",
    "                valid_clean_acc += batch_clean_acc\n",
    "                \n",
    "                # for adv\n",
    "                feed_dict = {\n",
    "                    x_holder: batch_adv_xs,\n",
    "                    y_holder: batch_adv_ys,\n",
    "                    is_training: False\n",
    "                }\n",
    "                fetches = [loss, acc]\n",
    "                batch_adv_loss, batch_adv_acc = sess.run(fetches=fetches, feed_dict=feed_dict)\n",
    "                valid_adv_loss += batch_adv_loss\n",
    "                valid_adv_acc += batch_adv_acc\n",
    "                \n",
    "                # for total\n",
    "                feed_dict = {\n",
    "                    x_holder: batch_xs,\n",
    "                    y_holder: batch_ys,\n",
    "                    is_training: False\n",
    "                }\n",
    "                fetches = [loss, acc]\n",
    "                batch_loss, batch_acc = sess.run(fetches=fetches, feed_dict=feed_dict)\n",
    "                valid_loss += batch_loss\n",
    "                valid_acc += batch_acc\n",
    "            valid_clean_loss /= total_valid_batch\n",
    "            valid_clean_acc /= total_valid_batch\n",
    "            valid_adv_loss /= total_valid_batch\n",
    "            valid_adv_acc /= total_valid_batch\n",
    "            valid_loss /= total_valid_batch\n",
    "            valid_acc /= total_valid_batch\n",
    "            print(\"Validation loss: {:4f}, validation acc: {:4f}\".format(valid_loss, valid_acc))\n",
    "            print(\"Validation clean loss: {:4f}, validation clean acc: {:4f}\".format(valid_clean_loss, valid_clean_acc))\n",
    "            print(\"Validation adv loss: {:4f}, validation adv acc: {:4f}\".format(valid_adv_loss, valid_adv_acc))\n",
    "            if valid_acc > 0.98:\n",
    "                if count > stop_count: break;\n",
    "                else: count += 1\n",
    "            else: count = 0\n",
    "    # test\n",
    "    test_loss = 0; test_acc = 0\n",
    "    for test_idx in range(total_test_batch):\n",
    "        batch_clean_xs, batch_clean_ys, clean_path = data.next_test_batch(BATCH_SIZE, True)\n",
    "        batch_adv_xs, batch_adv_ys = \\\n",
    "            data._load_batch_adv_images_from_adv_path_prefixes(BATCH_SIZE, clean_path, batch_clean_ys, adv_path_prefixes)\n",
    "        batch_adv_xs, batch_adv_ys = data._shuffle_multi([batch_adv_xs, batch_adv_ys])\n",
    "        #\n",
    "        batch_xs = np.concatenate([batch_clean_xs, batch_adv_xs], 0)\n",
    "        batch_ys = np.concatenate([batch_clean_ys, batch_adv_ys], 0)\n",
    "        batch_xs, batch_ys = data._shuffle_multi([batch_xs, batch_ys])\n",
    "        # for clean\n",
    "        feed_dict = {\n",
    "            x_holder: batch_clean_xs,\n",
    "            y_holder: batch_clean_ys,\n",
    "            is_training: False\n",
    "        }\n",
    "        fetches = [loss, acc]\n",
    "        batch_clean_loss, batch_clean_acc = sess.run(fetches=fetches, feed_dict=feed_dict)\n",
    "        test_clean_loss += batch_clean_loss\n",
    "        test_clean_acc += batch_clean_acc\n",
    "\n",
    "        # for adv\n",
    "        feed_dict = {\n",
    "            x_holder: batch_adv_xs,\n",
    "            y_holder: batch_adv_ys,\n",
    "            is_training: False\n",
    "        }\n",
    "        fetches = [loss, acc]\n",
    "        batch_adv_loss, batch_adv_acc = sess.run(fetches=fetches, feed_dict=feed_dict)\n",
    "        test_adv_loss += batch_adv_loss\n",
    "        test_adv_acc += batch_adv_acc\n",
    "\n",
    "        # for total\n",
    "        feed_dict = {\n",
    "            x_holder: batch_xs,\n",
    "            y_holder: batch_ys,\n",
    "            is_training: False\n",
    "        }\n",
    "        fetches = [loss, acc]\n",
    "        batch_loss, batch_acc = sess.run(fetches=fetches, feed_dict=feed_dict)\n",
    "        test_loss += batch_loss\n",
    "        test_acc += batch_acc\n",
    "    test_clean_loss /= total_test_batch\n",
    "    test_clean_acc /= total_test_batch\n",
    "    test_adv_loss /= total_test_batch\n",
    "    test_adv_acc /= total_test_batch\n",
    "    test_loss /= total_test_batch\n",
    "    test_acc /= total_test_batch\n",
    "    print(\"Test loss: {:4f}, test acc: {:4f}\".format(test_loss, test_acc))\n",
    "    print(\"Test clean loss: {:4f}, test clean acc: {:4f}\".format(test_clean_loss, test_clean_acc))\n",
    "    print(\"Test adv loss: {:4f}, test adv acc: {:4f}\".format(test_adv_loss, test_adv_acc))\n",
    "\n",
    "    model.tf_save(sess, \"./models\", \"target\")\n",
    "        "
   ]
  },
  {
   "cell_type": "code",
   "execution_count": null,
   "metadata": {
    "collapsed": true
   },
   "outputs": [],
   "source": []
  },
  {
   "cell_type": "code",
   "execution_count": null,
   "metadata": {
    "collapsed": true
   },
   "outputs": [],
   "source": []
  }
 ],
 "metadata": {
  "kernelspec": {
   "display_name": "Python 3",
   "language": "python",
   "name": "python3"
  },
  "language_info": {
   "codemirror_mode": {
    "name": "ipython",
    "version": 3
   },
   "file_extension": ".py",
   "mimetype": "text/x-python",
   "name": "python",
   "nbconvert_exporter": "python",
   "pygments_lexer": "ipython3",
   "version": "3.6.1"
  }
 },
 "nbformat": 4,
 "nbformat_minor": 2
}
